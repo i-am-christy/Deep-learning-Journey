{
 "cells": [
  {
   "cell_type": "code",
   "execution_count": 7,
   "metadata": {},
   "outputs": [],
   "source": [
    "import os, warnings\n",
    "import numpy as np\n",
    "import matplotlib.pyplot as plt\n",
    "from matplotlib import gridspec #this allows advance layout grids for creating coplex visulaizations\n",
    "import pandas as pd\n",
    "%matplotlib inline\n",
    "import tensorflow as tf #a deep learning library to build and train models\n",
    "from tensorflow.keras.preprocessing import image_dataset_from_directory #a tf utility used to load imgae datasets directly from a directory structure"
   ]
  },
  {
   "cell_type": "markdown",
   "metadata": {},
   "source": [
    "Load the Data"
   ]
  },
  {
   "cell_type": "code",
   "execution_count": 5,
   "metadata": {},
   "outputs": [],
   "source": [
    "#reproducibility: this function sets the seed for each operation so that they produce the same results regardless of how many times the lines are run\n",
    "def set_seed(seed=123):\n",
    "    np.random.seed(seed)\n",
    "    tf.random.set_seed(seed)\n",
    "    os.environ['PYTHONHASHSEED'] = str(seed)\n",
    "    os.environ['TF_DETERMINISTC_OPS'] = '1'\n",
    "\n",
    "set_seed(123)"
   ]
  },
  {
   "cell_type": "code",
   "execution_count": 8,
   "metadata": {},
   "outputs": [],
   "source": [
    "#set natplotlib default parameters\n",
    "plt.rc('figure', autolayout=True) #customizes the style of the plot\n",
    "plt.rc('axes', labelweight='bold', labelsize='large', \n",
    "       titleweight='bold', titlesize=18, titlepad=10)\n",
    "plt.rc('image', cmap='magma')\n",
    "warnings.filterwarnings(\"ignore\") #suppresses warnings in the output for cleaner results"
   ]
  },
  {
   "cell_type": "code",
   "execution_count": 26,
   "metadata": {},
   "outputs": [
    {
     "name": "stdout",
     "output_type": "stream",
     "text": [
      "Found 23650 files belonging to 2 classes.\n",
      "Found 3863 files belonging to 2 classes.\n"
     ]
    }
   ],
   "source": [
    "#loading the training and the validation sets\n",
    "ds_train_ = image_dataset_from_directory(\n",
    "    r\"Train\",\n",
    "    labels=\"inferred\", #infer labels from the subfolder names\n",
    "    label_mode=\"binary\", #create binary labels (0, 1)\n",
    "    image_size=[224, 224], #resizes all the inages to 128 by 128 pixels\n",
    "    interpolation='nearest', #use the nearest pixel to determine the values of the new pixel after resizing the images\n",
    "    batch_size=64, #divides the dataset into abtches of 64 images\n",
    "    shuffle=True #randomize the order of the dataset\n",
    ")\n",
    "\n",
    "ds_test_ = image_dataset_from_directory(\n",
    "    r\"Test\",\n",
    "    labels=\"inferred\",\n",
    "    label_mode=\"binary\",\n",
    "    image_size=[224, 224],\n",
    "    interpolation='nearest',\n",
    "    batch_size=64,\n",
    "    shuffle=True\n",
    ")"
   ]
  },
  {
   "cell_type": "code",
   "execution_count": 27,
   "metadata": {},
   "outputs": [],
   "source": [
    "#data pipeline\n",
    "def convert_to_float(image, label):\n",
    "    \"\"\"This function ensures that images are converted to float data type \n",
    "    (scaled between 0 and 1) for compatitbility with deep learning models\"\"\"\n",
    "    image = tf.image.convert_image_dtype(image, dtype=tf.float32)\n",
    "    return image, label"
   ]
  },
  {
   "cell_type": "code",
   "execution_count": 28,
   "metadata": {},
   "outputs": [],
   "source": [
    "#prepare and optimze the dataset\n",
    "AUTOTUNE = tf.data.experimental.AUTOTUNE\n",
    "ds_train = (\n",
    "    ds_train_.map(convert_to_float).cache().prefetch(buffer_size=AUTOTUNE) #chaches the dataset for faster loading\n",
    "     #preloads the dataset to improve training speed\n",
    ")\n",
    "\n",
    "ds_test = (\n",
    "    ds_test_.map(convert_to_float).cache().prefetch(buffer_size=AUTOTUNE) #chaches the dataset for faster loading\n",
    "    #preloads the dataset to improve training speed\n",
    ")"
   ]
  },
  {
   "cell_type": "markdown",
   "metadata": {},
   "source": [
    "Define Pretrained Base <br>\n",
    "<p>The most commonly used dataset for pretraining is ImageNet, a large dataset of many kind of natural images. Keras includes a variety models pretrained on ImageNet in its applications module. The pretrained model we'll use is called VGG16</p>"
   ]
  },
  {
   "cell_type": "code",
   "execution_count": 21,
   "metadata": {},
   "outputs": [
    {
     "name": "stdout",
     "output_type": "stream",
     "text": [
      "Downloading data from https://storage.googleapis.com/tensorflow/keras-applications/vgg16/vgg16_weights_tf_dim_ordering_tf_kernels.h5\n",
      "\u001b[1m553467096/553467096\u001b[0m \u001b[32m━━━━━━━━━━━━━━━━━━━━\u001b[0m\u001b[37m\u001b[0m \u001b[1m178s\u001b[0m 0us/step\n"
     ]
    }
   ],
   "source": [
    "from keras.applications.vgg16 import VGG16\n",
    "\n",
    "pretrained_base = VGG16()\n",
    "\n",
    "#freeze the pretrain base\n",
    "pretrained_base.trainable = False"
   ]
  },
  {
   "cell_type": "markdown",
   "metadata": {},
   "source": [
    "Attach the Head"
   ]
  },
  {
   "cell_type": "code",
   "execution_count": 29,
   "metadata": {},
   "outputs": [],
   "source": [
    "from tensorflow import keras\n",
    "from tensorflow.keras import layers\n",
    "\n",
    "#building the model\n",
    "model = keras.Sequential([\n",
    "    pretrained_base,\n",
    "    layers.Flatten(), #converts the multidimesional output of the pretrained base into a 1D vector\n",
    "    layers.Dense(6, activation='relu'),\n",
    "    layers.Dense(1, activation='sigmoid'),\n",
    "])"
   ]
  },
  {
   "cell_type": "markdown",
   "metadata": {},
   "source": [
    "Train the model"
   ]
  },
  {
   "cell_type": "code",
   "execution_count": null,
   "metadata": {},
   "outputs": [],
   "source": [
    "model.compile(\n",
    "    optimizer='adam',\n",
    "    loss='binary_crossentropy',\n",
    "    metrics = ['binary_accuracy']\n",
    ")\n",
    "\n",
    "history = model.fit(\n",
    "    ds_train,\n",
    "    validation_data=ds_test,\n",
    "    epochs=30,\n",
    "    verbose=0,\n",
    ")"
   ]
  },
  {
   "cell_type": "markdown",
   "metadata": {},
   "source": [
    "When training a neural network, it's always a good idea to examine the loss and metric plots. The `history` object contains this information in a dictionary `history.history`. We can use Pandas to convert this dictionary to a dataframe and plot it with a built-in method."
   ]
  },
  {
   "cell_type": "code",
   "execution_count": null,
   "metadata": {},
   "outputs": [],
   "source": [
    "history_frame = pd.DataFrame(history.history)\n",
    "history_frame.loc[:, ['loss', 'val_loss']].plot()\n",
    "history_frame.loc[:, ['binary_accuracy', 'val_binary_accuracy']].plot()"
   ]
  }
 ],
 "metadata": {
  "kernelspec": {
   "display_name": "Python 3",
   "language": "python",
   "name": "python3"
  },
  "language_info": {
   "codemirror_mode": {
    "name": "ipython",
    "version": 3
   },
   "file_extension": ".py",
   "mimetype": "text/x-python",
   "name": "python",
   "nbconvert_exporter": "python",
   "pygments_lexer": "ipython3",
   "version": "3.12.1"
  }
 },
 "nbformat": 4,
 "nbformat_minor": 2
}
